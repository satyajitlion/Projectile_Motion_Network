{
  "cells": [
    {
      "cell_type": "code",
      "execution_count": null,
      "metadata": {
        "id": "yaHrJXabRbcW"
      },
      "outputs": [],
      "source": [
        "# import important libraries\n",
        "\n",
        "import math\n",
        "import numpy as np\n",
        "import matplotlib.pyplot as plt\n",
        "%matplotlib inline\n",
        "\n",
        "import keras\n"
      ]
    },
    {
      "cell_type": "markdown",
      "metadata": {
        "id": "xJe4pQSQSVYp"
      },
      "source": [
        "### **Data Generation**"
      ]
    },
    {
      "cell_type": "code",
      "execution_count": null,
      "metadata": {
        "id": "rmi8Ibz5STyz"
      },
      "outputs": [],
      "source": [
        "### projectile motion equations\n",
        "\n",
        "### Horizontal motion equations for the projectile\n",
        "### x_f = x_i + v_x * delta_t\n",
        "### v_fx = v_ix\n",
        "### v_fy = v_iy + a_y * delta_t\n",
        "### y_f = y_i + v_iy * t - 1/2 * g * delta_t**2\n",
        "### v_fy**2 = v_iy**2 - 2*g*(y_f - y_i)\n",
        "\n",
        "# Generating Mock Data for Training Data\n",
        "\n",
        "# number of mock points\n",
        "num_points = 10**6;\n",
        "\n",
        "g = 9.81; # gravity\n",
        "\n",
        "x_i = 0; # by convention of coordinate system\n",
        "y_i = 0; # by convention of coordinate system\n",
        "\n",
        "def generate_data(num_samples):\n",
        "    theta = np.random.uniform(0, np.pi/2, num_samples)  # Only 0-90° makes physical sense\n",
        "    v_i = np.random.uniform(0, 80, num_samples)  # 0-80 mph\n",
        "    R = (v_i**2 * np.sin(2*theta)) / g  # Range calculation\n",
        "    return np.column_stack([v_i, theta]), R  # Features and labels\n"
      ]
    },
    {
      "cell_type": "code",
      "execution_count": null,
      "metadata": {
        "id": "P8XOWLeIc_uz"
      },
      "outputs": [],
      "source": [
        "x_train, y_train = generate_data(10**6)\n",
        "x_test, y_test = generate_data(10**5)"
      ]
    },
    {
      "cell_type": "code",
      "execution_count": null,
      "metadata": {
        "id": "YzbRf6qPfmbh"
      },
      "outputs": [],
      "source": [
        "np.save('x_train.npy', x_train)\n",
        "np.save('y_train.npy', y_train)\n",
        "np.save('x_test.npy', x_test)\n",
        "np.save('y_test.npy', y_test)"
      ]
    },
    {
      "cell_type": "markdown",
      "metadata": {
        "id": "cwOUpbj9Seua"
      },
      "source": [
        "### **Neural Network**"
      ]
    },
    {
      "cell_type": "code",
      "execution_count": null,
      "metadata": {
        "id": "501wCHZ0iD3D"
      },
      "outputs": [],
      "source": [
        "x_train = np.load('x_train.npy', allow_pickle = True)\n",
        "y_train = np.load('y_train.npy', allow_pickle = True)\n",
        "x_test = np.load('x_test.npy', allow_pickle = True)\n",
        "y_test = np.load('y_test.npy', allow_pickle = True)"
      ]
    },
    {
      "cell_type": "code",
      "execution_count": null,
      "metadata": {
        "colab": {
          "base_uri": "https://localhost:8080/"
        },
        "id": "iMgPZGS-iStJ",
        "outputId": "3bdfd229-e920-465e-a4ef-d623d5c6af1b"
      },
      "outputs": [
        {
          "name": "stdout",
          "output_type": "stream",
          "text": [
            "[[69.55524748  1.05929261]\n",
            " [14.06780892  1.16464443]\n",
            " [77.92618098  0.99104145]\n",
            " ...\n",
            " [30.76444721  1.11298803]\n",
            " [41.44462789  0.14664681]\n",
            " [53.9774375   0.10101746]] [421.00277972  14.64350322 567.38918373 ...  76.50127821  50.62041916\n",
            "  59.59686605]\n",
            "[[ 9.68869376  0.32456376]\n",
            " [20.17743202  1.56923767]\n",
            " [67.90804485  0.65110141]\n",
            " ...\n",
            " [19.36911282  0.98541847]\n",
            " [52.67585076  1.35764627]\n",
            " [63.75860152  1.06929619]] [5.78431220e+00 1.29372896e-01 4.53227073e+02 ... 3.52234087e+01\n",
            " 1.16959298e+02 3.49366772e+02]\n"
          ]
        }
      ],
      "source": [
        "print(x_train, y_train)\n",
        "print(x_test,y_test)"
      ]
    },
    {
      "cell_type": "code",
      "execution_count": null,
      "metadata": {
        "id": "6Fri1WI0rCRm"
      },
      "outputs": [],
      "source": [
        "# Normalize data\n",
        "v_mean, v_std = x_train[:,0].mean(), x_train[:,0].std()\n",
        "theta_mean, theta_std = x_train[:,1].mean(), x_train[:,1].std()\n",
        "\n",
        "x_train[:,0] = (x_train[:,0] - v_mean) / v_std\n",
        "x_train[:,1] = (x_train[:,1] - theta_mean) / theta_std\n",
        "x_test[:,0] = (x_test[:,0] - v_mean) / v_std\n",
        "x_test[:,1] = (x_test[:,1] - theta_mean) / theta_std\n"
      ]
    },
    {
      "cell_type": "code",
      "execution_count": null,
      "metadata": {
        "id": "bJc1iIaNrPA5"
      },
      "outputs": [],
      "source": [
        "# Model for regression\n",
        "def make_model(input_shape):\n",
        "    input_layer = keras.layers.Input(input_shape)\n",
        "\n",
        "    # Simple dense network works better for this\n",
        "    x = keras.layers.Dense(64, activation='relu')(input_layer)\n",
        "    x = keras.layers.Dense(64, activation='relu')(x)\n",
        "    x = keras.layers.Dense(64, activation='relu')(x)\n",
        "\n",
        "    # Single output for regression (no activation)\n",
        "    output_layer = keras.layers.Dense(1)(x)\n",
        "\n",
        "    return keras.models.Model(inputs=input_layer, outputs=output_layer)"
      ]
    },
    {
      "cell_type": "code",
      "execution_count": null,
      "metadata": {
        "id": "xl-D3WELrn1A"
      },
      "outputs": [],
      "source": [
        "# Input shape is (2,) for [v_i, theta]\n",
        "model = make_model(input_shape=(2,))"
      ]
    },
    {
      "cell_type": "code",
      "execution_count": null,
      "metadata": {
        "colab": {
          "background_save": true,
          "base_uri": "https://localhost:8080/"
        },
        "id": "kNWapj34rr8Z",
        "outputId": "eec38da0-fa8f-40fb-dfd1-ff6b79c1eaac"
      },
      "outputs": [
        {
          "name": "stdout",
          "output_type": "stream",
          "text": [
            "Epoch 1/10\n",
            "\u001b[1m31250/31250\u001b[0m \u001b[32m━━━━━━━━━━━━━━━━━━━━\u001b[0m\u001b[37m\u001b[0m \u001b[1m85s\u001b[0m 3ms/step - loss: 1338.1565 - mae: 9.3937 - val_loss: 0.1750 - val_mae: 0.3145\n",
            "Epoch 2/10\n",
            "\u001b[1m31250/31250\u001b[0m \u001b[32m━━━━━━━━━━━━━━━━━━━━\u001b[0m\u001b[37m\u001b[0m \u001b[1m90s\u001b[0m 3ms/step - loss: 0.8844 - mae: 0.5749 - val_loss: 0.2345 - val_mae: 0.3499\n",
            "Epoch 3/10\n",
            "\u001b[1m31250/31250\u001b[0m \u001b[32m━━━━━━━━━━━━━━━━━━━━\u001b[0m\u001b[37m\u001b[0m \u001b[1m137s\u001b[0m 3ms/step - loss: 0.7720 - mae: 0.5171 - val_loss: 0.5482 - val_mae: 0.5056\n",
            "Epoch 4/10\n",
            "\u001b[1m31250/31250\u001b[0m \u001b[32m━━━━━━━━━━━━━━━━━━━━\u001b[0m\u001b[37m\u001b[0m \u001b[1m86s\u001b[0m 3ms/step - loss: 0.6769 - mae: 0.4972 - val_loss: 1.0339 - val_mae: 0.6628\n",
            "Epoch 5/10\n",
            "\u001b[1m31250/31250\u001b[0m \u001b[32m━━━━━━━━━━━━━━━━━━━━\u001b[0m\u001b[37m\u001b[0m \u001b[1m138s\u001b[0m 3ms/step - loss: 0.6981 - mae: 0.4960 - val_loss: 0.4544 - val_mae: 0.4571\n",
            "Epoch 6/10\n",
            "\u001b[1m31250/31250\u001b[0m \u001b[32m━━━━━━━━━━━━━━━━━━━━\u001b[0m\u001b[37m\u001b[0m \u001b[1m142s\u001b[0m 3ms/step - loss: 0.6367 - mae: 0.4713 - val_loss: 0.0942 - val_mae: 0.2403\n",
            "Epoch 7/10\n",
            "\u001b[1m31250/31250\u001b[0m \u001b[32m━━━━━━━━━━━━━━━━━━━━\u001b[0m\u001b[37m\u001b[0m \u001b[1m89s\u001b[0m 3ms/step - loss: 0.6454 - mae: 0.4694 - val_loss: 1.2396 - val_mae: 0.7676\n",
            "Epoch 8/10\n",
            "\u001b[1m31250/31250\u001b[0m \u001b[32m━━━━━━━━━━━━━━━━━━━━\u001b[0m\u001b[37m\u001b[0m \u001b[1m141s\u001b[0m 3ms/step - loss: 0.6312 - mae: 0.4652 - val_loss: 0.7476 - val_mae: 0.6294\n",
            "Epoch 9/10\n",
            "\u001b[1m31250/31250\u001b[0m \u001b[32m━━━━━━━━━━━━━━━━━━━━\u001b[0m\u001b[37m\u001b[0m \u001b[1m135s\u001b[0m 3ms/step - loss: 0.6418 - mae: 0.4554 - val_loss: 0.0755 - val_mae: 0.2029\n",
            "Epoch 10/10\n",
            "\u001b[1m31250/31250\u001b[0m \u001b[32m━━━━━━━━━━━━━━━━━━━━\u001b[0m\u001b[37m\u001b[0m \u001b[1m80s\u001b[0m 3ms/step - loss: 0.5208 - mae: 0.4185 - val_loss: 1.6163 - val_mae: 0.8935\n"
          ]
        }
      ],
      "source": [
        "model.compile(\n",
        "    optimizer='adam',\n",
        "    loss='mse',  # Mean squared error for regression\n",
        "    metrics=['mae']  # Mean absolute error\n",
        ")\n",
        "\n",
        "history = model.fit(\n",
        "    x_train, y_train,\n",
        "    validation_data=(x_test, y_test),\n",
        "    epochs=10,\n",
        "    batch_size=32\n",
        ")"
      ]
    }
  ],
  "metadata": {
    "colab": {
      "provenance": []
    },
    "kernelspec": {
      "display_name": "Python 3",
      "name": "python3"
    },
    "language_info": {
      "name": "python"
    }
  },
  "nbformat": 4,
  "nbformat_minor": 0
}